{
 "cells": [
  {
   "cell_type": "code",
   "execution_count": null,
   "metadata": {},
   "outputs": [],
   "source": [
    "%pip install --quiet --upgrade diffusers transformers accelerate invisible_watermark mediapy omegaconf gradio"
   ]
  },
  {
   "cell_type": "code",
   "execution_count": null,
   "metadata": {},
   "outputs": [],
   "source": [
    "!pip install omegaconf\n"
   ]
  },
  {
   "cell_type": "code",
   "execution_count": null,
   "metadata": {},
   "outputs": [],
   "source": [
    "use_refiner = False"
   ]
  },
  {
   "cell_type": "code",
   "execution_count": null,
   "metadata": {},
   "outputs": [],
   "source": [
    "#@title Setup Model\n",
    "\n",
    "import mediapy as media\n",
    "import random\n",
    "import sys\n",
    "import torch\n",
    "\n",
    "from diffusers import DiffusionPipeline\n",
    "\n",
    "model = \"digiplay/Realisian_v6\" \n",
    "\n",
    "pipe = DiffusionPipeline.from_pretrained(\n",
    "    model,\n",
    "    torch_dtype=torch.float16,\n",
    "    safety_checker=None,\n",
    "    requires_safety_checker=False\n",
    ")\n",
    "\n",
    "pipe = pipe.to(\"cuda\") \n"
   ]
  },
  {
   "cell_type": "code",
   "execution_count": null,
   "metadata": {},
   "outputs": [],
   "source": [
    "# @title PROMPT, GUNAKAN BAHASA INGGRIS / USE ENGLISH { display-mode: \"form\" }\n",
    "import os\n",
    "prompt = \"garden having lake sideby and buetiful view of the mountains with the snow on it\" \n",
    "seed = 50000000000\n",
    "\n",
    "negative_prompt = \"bad-picture-chill-75v, ng_deepnegative_v1_75t, badhandv4, (worst quality:2), (low quality:2), (normal quality:2), (lowres:2), (bad anatomy:2), (bad hands:2), (watermark:2), (mole:1.5), (freckles:1.5)\" \n",
    "\n",
    "width = 1064  \n",
    "height = 936  \n",
    "num_image = 1 \n",
    "similarity2prompt = 7.5 \n",
    "step = 50\n",
    "\n",
    "width = int(width)\n",
    "height = int(height)\n",
    "image = int(num_image)\n",
    "guidance = float(similarity2prompt)\n",
    "step = int(step)\n",
    "\n",
    "images = pipe(\n",
    "    prompt=prompt,\n",
    "    width=width,\n",
    "    height=height,\n",
    "    num_images_per_prompt = image,\n",
    "    guidance_scale = guidance,\n",
    "    num_inference_steps = step,\n",
    "    negative_prompt=negative_prompt,\n",
    "    output_type=\"latent\" if use_refiner else \"pil\",\n",
    "    generator=torch.Generator().manual_seed(seed)\n",
    ").images\n",
    "\n",
    "\n",
    "if use_refiner:\n",
    "  images = refiner(\n",
    "      prompt = prompt,\n",
    "      negative_prompt = negative_prompt,\n",
    "      image = images,\n",
    "      ).images\n",
    "\n",
    "print(f\"Prompt:\\t{prompt}\\nSeed:\\t{seed}\")\n",
    "\n",
    "\n",
    "base_filename = \"output.jpg\"\n",
    "new_filename = base_filename\n",
    "\n",
    "\n",
    "if os.path.exists(base_filename):\n",
    "    index = 1\n",
    "    while True:\n",
    "        new_filename = f\"output_{index}.jpg\"\n",
    "        if not os.path.exists(new_filename):\n",
    "            break\n",
    "        index += 1\n",
    "\n",
    "images[0].save(new_filename)\n",
    "\n",
    "media.show_images(images)"
   ]
  },
  {
   "cell_type": "markdown",
   "metadata": {},
   "source": [
    "## **TOOLS**"
   ]
  },
  {
   "cell_type": "code",
   "execution_count": null,
   "metadata": {},
   "outputs": [],
   "source": [
    "#@title FIX FALSE NSFW\n",
    "pipe.safety_checker = None\n",
    "pipe.requires_safety_checker = False\n",
    "\n",
    "#JIKA RUNTIME RESTART, JALANKAN KODE INI LAGI\n",
    "#IF THE RUNTIME RESTARTS, RUN THIS CODE AGAIN"
   ]
  }
 ],
 "metadata": {
  "kernelspec": {
   "display_name": "Python 3",
   "language": "python",
   "name": "python3"
  },
  "language_info": {
   "codemirror_mode": {
    "name": "ipython",
    "version": 3
   },
   "file_extension": ".py",
   "mimetype": "text/x-python",
   "name": "python",
   "nbconvert_exporter": "python",
   "pygments_lexer": "ipython3",
   "version": "3.12.6"
  }
 },
 "nbformat": 4,
 "nbformat_minor": 2
}
